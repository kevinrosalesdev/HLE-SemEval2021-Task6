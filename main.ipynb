{
 "cells": [
  {
   "cell_type": "markdown",
   "metadata": {
    "collapsed": true,
    "pycharm": {
     "name": "#%% md\n"
    }
   },
   "source": [
    "# Task 6.2 from *SemEval*\n",
    "## Imports"
   ]
  },
  {
   "cell_type": "code",
   "execution_count": 1,
   "outputs": [],
   "source": [
    "import torch\n",
    "\n",
    "from src.dataprocessing import preprocesser, postprocesser\n",
    "from src.model import model\n",
    "\n",
    "import json"
   ],
   "metadata": {
    "collapsed": false,
    "pycharm": {
     "name": "#%%\n"
    }
   }
  },
  {
   "cell_type": "markdown",
   "source": [
    "## Input Data Preprocessing"
   ],
   "metadata": {
    "collapsed": false,
    "pycharm": {
     "name": "#%% md\n"
    }
   }
  },
  {
   "cell_type": "code",
   "execution_count": 2,
   "outputs": [],
   "source": [
    "train_file_path = \"SEMEVAL-2021-task6-corpus/data/training_set_task2.txt\"\n",
    "with open(train_file_path, \"r\") as file:\n",
    "    train_data = json.load(file)\n",
    "\n",
    "dev_file_path = \"SEMEVAL-2021-task6-corpus/data/dev_set_task2.txt\"\n",
    "with open(dev_file_path, \"r\") as file:\n",
    "    dev_data = json.load(file)\n",
    "\n",
    "test_file_path = \"SEMEVAL-2021-task6-corpus/data/test_set_task2.txt\"\n",
    "with open(dev_file_path, \"r\") as file:\n",
    "    test_data = json.load(file)\n",
    "\n",
    "input_tdata, output_tdata = preprocesser.preprocess_data(train_data)\n",
    "input_vdata, output_vdata = preprocesser.preprocess_data(dev_data)"
   ],
   "metadata": {
    "collapsed": false,
    "pycharm": {
     "name": "#%%\n"
    }
   }
  },
  {
   "cell_type": "markdown",
   "source": [],
   "metadata": {
    "collapsed": false
   }
  },
  {
   "cell_type": "code",
   "execution_count": 3,
   "outputs": [
    {
     "name": "stderr",
     "output_type": "stream",
     "text": [
      "Some weights of the model checkpoint at roberta-base were not used when initializing RobertaForTokenClassification: ['lm_head.dense.bias', 'lm_head.dense.weight', 'lm_head.decoder.weight', 'lm_head.bias', 'lm_head.layer_norm.weight', 'lm_head.layer_norm.bias']\n",
      "- This IS expected if you are initializing RobertaForTokenClassification from the checkpoint of a model trained on another task or with another architecture (e.g. initializing a BertForSequenceClassification model from a BertForPreTraining model).\n",
      "- This IS NOT expected if you are initializing RobertaForTokenClassification from the checkpoint of a model that you expect to be exactly identical (initializing a BertForSequenceClassification model from a BertForSequenceClassification model).\n",
      "Some weights of RobertaForTokenClassification were not initialized from the model checkpoint at roberta-base and are newly initialized: ['classifier.bias', 'classifier.weight']\n",
      "You should probably TRAIN this model on a down-stream task to be able to use it for predictions and inference.\n",
      "Epoch: 1\t: 100%|████████████████████████████████████████████████████████████████████| 688/688 [00:48<00:00, 14.17 batch/s, loss=0.135, val_loss=0.172]\n",
      "Epoch: 2\t: 100%|█████████████████████████████████████████████████████████████████████| 688/688 [00:49<00:00, 13.85 batch/s, loss=0.13, val_loss=0.168]\n",
      "Epoch: 3\t: 100%|████████████████████████████████████████████████████████████████████| 688/688 [00:48<00:00, 14.08 batch/s, loss=0.128, val_loss=0.168]\n",
      "Epoch: 4\t: 100%|████████████████████████████████████████████████████████████████████| 688/688 [00:49<00:00, 13.92 batch/s, loss=0.128, val_loss=0.166]\n",
      "Epoch: 5\t: 100%|████████████████████████████████████████████████████████████████████| 688/688 [00:48<00:00, 14.16 batch/s, loss=0.127, val_loss=0.165]\n"
     ]
    }
   ],
   "source": [
    "model.train(input_tdata, output_tdata, input_vdata, output_vdata)"
   ],
   "metadata": {
    "collapsed": false,
    "pycharm": {
     "name": "#%%\n"
    }
   }
  },
  {
   "cell_type": "markdown",
   "source": [
    "## Results & Post-Processing"
   ],
   "metadata": {
    "collapsed": false
   }
  },
  {
   "cell_type": "code",
   "execution_count": 3,
   "outputs": [],
   "source": [
    "model = torch.load('models/MEMbErt.pth')\n",
    "predictions = []\n",
    "\n",
    "with torch.no_grad():\n",
    "    for meme in input_vdata:\n",
    "        model.eval()\n",
    "        predictions.append(model(' '.join(meme)).cpu().numpy())"
   ],
   "metadata": {
    "collapsed": false,
    "pycharm": {
     "name": "#%%\n"
    }
   }
  },
  {
   "cell_type": "code",
   "execution_count": 4,
   "outputs": [],
   "source": [
    "output = postprocesser.postprocess_data(dev_data, input_vdata, predictions, model.tokenizer, threshold=0.2)\n",
    "with open(\"out/out.txt\", \"w\") as f:\n",
    "    json.dump(output, f)"
   ],
   "metadata": {
    "collapsed": false,
    "pycharm": {
     "name": "#%%\n"
    }
   }
  },
  {
   "cell_type": "markdown",
   "source": [
    "## Evaluation\n",
    "For evaluation, type:\n",
    "\n",
    "`python3 SEMEVAL-2021-task6-corpus/scorer/task2/task-2-semeval21_scorer.py -s out/out.txt -r SEMEVAL-2021-task6-corpus/data/dev_set_task2.txt -p SEMEVAL-2021-task6-corpus/techniques_list_task1-2.txt\n",
    "`"
   ],
   "metadata": {
    "collapsed": false,
    "pycharm": {
     "name": "#%% md\n"
    }
   }
  }
 ],
 "metadata": {
  "kernelspec": {
   "name": "python3",
   "language": "python",
   "display_name": "Python 3 (ipykernel)"
  },
  "language_info": {
   "codemirror_mode": {
    "name": "ipython",
    "version": 2
   },
   "file_extension": ".py",
   "mimetype": "text/x-python",
   "name": "python",
   "nbconvert_exporter": "python",
   "pygments_lexer": "ipython2",
   "version": "2.7.6"
  }
 },
 "nbformat": 4,
 "nbformat_minor": 0
}