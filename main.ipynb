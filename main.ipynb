{
 "cells": [
  {
   "cell_type": "markdown",
   "metadata": {
    "collapsed": true,
    "pycharm": {
     "name": "#%% md\n"
    }
   },
   "source": [
    "# Task 6.2 from *SemEval*\n",
    "## Imports"
   ]
  },
  {
   "cell_type": "code",
   "execution_count": 1,
   "outputs": [],
   "source": [
    "import torch\n",
    "\n",
    "from src.dataprocessing import preprocesser, postprocesser\n",
    "from src.model import model\n",
    "\n",
    "import json"
   ],
   "metadata": {
    "collapsed": false,
    "pycharm": {
     "name": "#%%\n"
    }
   }
  },
  {
   "cell_type": "markdown",
   "source": [
    "## Input Data Preprocessing"
   ],
   "metadata": {
    "collapsed": false,
    "pycharm": {
     "name": "#%% md\n"
    }
   }
  },
  {
   "cell_type": "code",
   "execution_count": 2,
   "outputs": [],
   "source": [
    "# preprocesser.augment_data(\"propaganda_detection/datasets/train-articles\",\"propaganda_detection/datasets/train-labels-task2-technique-classification\", \"out/augmented_data\")"
   ],
   "metadata": {
    "collapsed": false,
    "pycharm": {
     "name": "#%%\n"
    }
   }
  },
  {
   "cell_type": "code",
   "execution_count": 3,
   "outputs": [],
   "source": [
    "train_file_path = \"SEMEVAL-2021-task6-corpus/data/training_set_task2.txt\"\n",
    "with open(train_file_path, \"r\") as file:\n",
    "    train_data = json.load(file)\n",
    "\n",
    "train_aug_file_path = \"out/augmented_data.json\"\n",
    "with open(train_aug_file_path, \"r\") as file:\n",
    "    train_aug_data = json.load(file)\n",
    "\n",
    "dev_file_path = \"SEMEVAL-2021-task6-corpus/data/dev_set_task2.txt\"\n",
    "with open(dev_file_path, \"r\") as file:\n",
    "    dev_data = json.load(file)\n",
    "\n",
    "test_file_path = \"SEMEVAL-2021-task6-corpus/data/test_set_task2.txt\"\n",
    "with open(dev_file_path, \"r\") as file:\n",
    "    test_data = json.load(file)\n",
    "\n",
    "input_tdata, output_tdata = preprocesser.preprocess_data(train_data)\n",
    "input_taugdata, output_taugdata = preprocesser.preprocess_data(train_aug_data)\n",
    "input_vdata, output_vdata = preprocesser.preprocess_data(dev_data)\n",
    "\n",
    "# Data Augmentation ö\n",
    "input_tdata.extend(input_taugdata)\n",
    "output_tdata.extend(output_taugdata)"
   ],
   "metadata": {
    "collapsed": false,
    "pycharm": {
     "name": "#%%\n"
    }
   }
  },
  {
   "cell_type": "code",
   "execution_count": 4,
   "outputs": [
    {
     "name": "stderr",
     "output_type": "stream",
     "text": [
      "Some weights of the model checkpoint at roberta-large were not used when initializing RobertaForTokenClassification: ['lm_head.layer_norm.bias', 'lm_head.dense.bias', 'lm_head.bias', 'lm_head.decoder.weight', 'lm_head.dense.weight', 'lm_head.layer_norm.weight']\n",
      "- This IS expected if you are initializing RobertaForTokenClassification from the checkpoint of a model trained on another task or with another architecture (e.g. initializing a BertForSequenceClassification model from a BertForPreTraining model).\n",
      "- This IS NOT expected if you are initializing RobertaForTokenClassification from the checkpoint of a model that you expect to be exactly identical (initializing a BertForSequenceClassification model from a BertForSequenceClassification model).\n",
      "Some weights of RobertaForTokenClassification were not initialized from the model checkpoint at roberta-large and are newly initialized: ['classifier.weight', 'classifier.bias']\n",
      "You should probably TRAIN this model on a down-stream task to be able to use it for predictions and inference.\n",
      "Epoch: 1\t: 100%|████████████████████████████████████████████████████████████████████| 5017/5017 [01:44<00:00, 48.23 batch/s, loss=12.3, val_loss=22.8]\n"
     ]
    }
   ],
   "source": [
    "model.train(input_tdata, output_tdata, input_vdata, output_vdata)"
   ],
   "metadata": {
    "collapsed": false,
    "pycharm": {
     "name": "#%%\n"
    }
   }
  },
  {
   "cell_type": "markdown",
   "source": [
    "## Results & Post-Processing"
   ],
   "metadata": {
    "collapsed": false
   }
  },
  {
   "cell_type": "code",
   "execution_count": 5,
   "outputs": [],
   "source": [
    "model = torch.load('models/MEMbErt.pth')\n",
    "predictions = []\n",
    "\n",
    "with torch.no_grad():\n",
    "    for meme in input_vdata:\n",
    "        model.eval()\n",
    "        predictions.append(model(' '.join(meme)).cpu().numpy())"
   ],
   "metadata": {
    "collapsed": false,
    "pycharm": {
     "name": "#%%\n"
    }
   }
  },
  {
   "cell_type": "code",
   "execution_count": 6,
   "outputs": [
    {
     "data": {
      "text/plain": "array([[0.37854278, 0.40294778, 0.5278869 , 0.44029826, 0.41455758,\n        0.4337486 , 0.49179694, 0.16653179, 0.44977438, 0.1556831 ,\n        0.47526997, 0.14861926, 0.34056258, 0.37895724, 0.33433878,\n        0.38427767, 0.35314292, 0.3330341 , 0.3585393 , 0.3791072 ],\n       [0.29778934, 0.29213557, 0.38569048, 0.3754421 , 0.34032017,\n        0.3138022 , 0.41564265, 0.05766053, 0.36052066, 0.03363029,\n        0.25664377, 0.03557968, 0.14964865, 0.1777665 , 0.35076118,\n        0.26844695, 0.16015072, 0.11783781, 0.16764832, 0.17746285],\n       [0.34477282, 0.40457052, 0.62894225, 0.45158944, 0.40990654,\n        0.4076273 , 0.30397347, 0.09522396, 0.40554243, 0.06266552,\n        0.37417606, 0.06583284, 0.2720749 , 0.3363626 , 0.32857156,\n        0.32680684, 0.30143148, 0.2725619 , 0.31812945, 0.34321213],\n       [0.36765483, 0.43329427, 0.496691  , 0.39634284, 0.38629246,\n        0.4186626 , 0.3616237 , 0.153953  , 0.355605  , 0.12302508,\n        0.39194304, 0.11019623, 0.3270484 , 0.38909125, 0.40225568,\n        0.3851054 , 0.34602666, 0.28298938, 0.37918335, 0.36576697],\n       [0.50564545, 0.3305918 , 0.58225775, 0.5574692 , 0.34710652,\n        0.47083864, 0.35580346, 0.10065936, 0.37308344, 0.09374667,\n        0.24240968, 0.08550131, 0.21469902, 0.4251203 , 0.23226564,\n        0.20182562, 0.24070428, 0.3171872 , 0.2518003 , 0.3929106 ],\n       [0.40623638, 0.37571564, 0.51281923, 0.52349186, 0.38684097,\n        0.43705973, 0.49379098, 0.08712713, 0.36740357, 0.05041131,\n        0.4079551 , 0.06645533, 0.35421172, 0.329348  , 0.26951322,\n        0.32688144, 0.4084877 , 0.50575936, 0.39534667, 0.32882744],\n       [0.3679332 , 0.35406426, 0.5435837 , 0.47697824, 0.38859975,\n        0.3765969 , 0.7465761 , 0.04015745, 0.26072487, 0.03030098,\n        0.51883125, 0.01857506, 0.26993486, 0.41053727, 0.17802927,\n        0.42283583, 0.27657592, 0.26862982, 0.26323837, 0.37437078],\n       [0.43081185, 0.3684844 , 0.4947685 , 0.43549022, 0.46467826,\n        0.3957441 , 0.5630841 , 0.11049988, 0.36599058, 0.09131084,\n        0.44611353, 0.08492069, 0.34935626, 0.4360811 , 0.3099525 ,\n        0.30658165, 0.34089082, 0.4647268 , 0.3193348 , 0.43588102],\n       [0.3021212 , 0.3830596 , 0.5577532 , 0.5396858 , 0.38952377,\n        0.3924827 , 0.48741353, 0.10390837, 0.47068447, 0.08324335,\n        0.546422  , 0.12800536, 0.28793237, 0.36505845, 0.30711985,\n        0.3688561 , 0.3036133 , 0.4221145 , 0.32489225, 0.39877066],\n       [0.30655316, 0.50970435, 0.6160929 , 0.5272006 , 0.34285307,\n        0.48168677, 0.4090985 , 0.04356494, 0.60036606, 0.0385092 ,\n        0.737063  , 0.05724474, 0.3992706 , 0.4724454 , 0.4223269 ,\n        0.35272366, 0.38584974, 0.2823671 , 0.4235317 , 0.46980327],\n       [0.28872856, 0.5100274 , 0.5472928 , 0.45076454, 0.3699971 ,\n        0.45026731, 0.52370965, 0.07117295, 0.57975256, 0.06006748,\n        0.613149  , 0.07633634, 0.34215224, 0.3921962 , 0.42935842,\n        0.2856727 , 0.36256704, 0.18516754, 0.35468942, 0.3919443 ],\n       [0.40401426, 0.235706  , 0.45363954, 0.28977627, 0.32739088,\n        0.32735375, 0.51987743, 0.05656395, 0.3194649 , 0.02876114,\n        0.2522004 , 0.0351507 , 0.17572439, 0.24083675, 0.194946  ,\n        0.27431953, 0.17062776, 0.10067046, 0.18967086, 0.24843521],\n       [0.24288538, 0.2875986 , 0.3655897 , 0.38841572, 0.3777924 ,\n        0.3910015 , 0.36218214, 0.07376079, 0.38603476, 0.06195465,\n        0.33685014, 0.07790982, 0.23961115, 0.23477706, 0.2887743 ,\n        0.2704057 , 0.22820303, 0.12547614, 0.23326288, 0.25010502],\n       [0.21289796, 0.24589305, 0.5664789 , 0.2534638 , 0.407832  ,\n        0.5108523 , 0.16762348, 0.03830937, 0.3415012 , 0.03446768,\n        0.381819  , 0.03543232, 0.22603807, 0.23143539, 0.32872295,\n        0.15486495, 0.23293117, 0.15376979, 0.24321072, 0.22209848],\n       [0.32114902, 0.2236134 , 0.55935645, 0.42991218, 0.50939316,\n        0.5240676 , 0.24180683, 0.0604596 , 0.35100257, 0.032228  ,\n        0.35698697, 0.03873576, 0.15537214, 0.22653235, 0.35430908,\n        0.16252951, 0.17812794, 0.1329918 , 0.17261608, 0.18556748],\n       [0.28708008, 0.30256042, 0.51569927, 0.26755378, 0.33592555,\n        0.43966657, 0.27404517, 0.06973196, 0.37576944, 0.03442387,\n        0.265821  , 0.03122648, 0.26394767, 0.5336607 , 0.10043803,\n        0.24238311, 0.29037353, 0.2529315 , 0.2864108 , 0.51943314],\n       [0.3556468 , 0.41876447, 0.5567342 , 0.41975197, 0.4097929 ,\n        0.4646897 , 0.518436  , 0.12253433, 0.43391877, 0.0938552 ,\n        0.5007719 , 0.1093076 , 0.38178232, 0.4008864 , 0.3972477 ,\n        0.33729854, 0.37774074, 0.30318224, 0.3774164 , 0.3939071 ],\n       [0.29308352, 0.42592192, 0.49200416, 0.4403388 , 0.35585088,\n        0.52236354, 0.5026347 , 0.10532018, 0.45260763, 0.05003022,\n        0.43295264, 0.07521125, 0.41510218, 0.3163293 , 0.18820386,\n        0.16975479, 0.42199275, 0.22898115, 0.39819646, 0.31230116],\n       [0.3321877 , 0.3593887 , 0.41635677, 0.31198356, 0.3272123 ,\n        0.51682854, 0.5647799 , 0.10915818, 0.43848905, 0.10151694,\n        0.50336486, 0.08934718, 0.33987233, 0.38695478, 0.22158948,\n        0.20049293, 0.33834812, 0.38385415, 0.35548794, 0.37546793],\n       [0.362274  , 0.35790387, 0.42142788, 0.4222604 , 0.38562024,\n        0.49734232, 0.46821347, 0.10355324, 0.50816363, 0.08556159,\n        0.48976016, 0.07813008, 0.41938308, 0.29080683, 0.27915457,\n        0.17925343, 0.38268408, 0.2306869 , 0.38379142, 0.22479455],\n       [0.3909379 , 0.35050917, 0.48210314, 0.36151952, 0.35673764,\n        0.7194248 , 0.48296526, 0.03772788, 0.4805888 , 0.03653927,\n        0.40929395, 0.03268566, 0.35452107, 0.32399848, 0.29313922,\n        0.16866525, 0.37394288, 0.13585453, 0.34879422, 0.28986695],\n       [0.44839996, 0.39268392, 0.54859877, 0.4559492 , 0.26279595,\n        0.59762996, 0.5732542 , 0.10811472, 0.49704155, 0.05996494,\n        0.3715643 , 0.08265609, 0.29449525, 0.3488293 , 0.17703456,\n        0.31842032, 0.3098516 , 0.30594504, 0.29767957, 0.35278675],\n       [0.34315395, 0.44820887, 0.5612118 , 0.46697727, 0.38999426,\n        0.5934161 , 0.52113575, 0.08080445, 0.57488906, 0.06201816,\n        0.4545382 , 0.05682263, 0.2637553 , 0.2425061 , 0.31377652,\n        0.28098214, 0.3094997 , 0.32494283, 0.30316594, 0.1961317 ]],\n      dtype=float32)"
     },
     "execution_count": 6,
     "metadata": {},
     "output_type": "execute_result"
    }
   ],
   "source": [
    "predictions[50]"
   ],
   "metadata": {
    "collapsed": false,
    "pycharm": {
     "name": "#%%\n"
    }
   }
  },
  {
   "cell_type": "code",
   "execution_count": 9,
   "outputs": [],
   "source": [
    "output = postprocesser.postprocess_data(dev_data, input_vdata, predictions, model.tokenizer, threshold=0.6)\n",
    "with open(\"out/out.txt\", \"w\") as f:\n",
    "    json.dump(output, f)"
   ],
   "metadata": {
    "collapsed": false,
    "pycharm": {
     "name": "#%%\n"
    }
   }
  },
  {
   "cell_type": "markdown",
   "source": [
    "## Evaluation\n",
    "For evaluation, type:\n",
    "\n",
    "`python3 SEMEVAL-2021-task6-corpus/scorer/task2/task-2-semeval21_scorer.py -s out/out.txt -r SEMEVAL-2021-task6-corpus/data/dev_set_task2.txt -p SEMEVAL-2021-task6-corpus/techniques_list_task1-2.txt\n",
    "`"
   ],
   "metadata": {
    "collapsed": false,
    "pycharm": {
     "name": "#%% md\n"
    }
   }
  }
 ],
 "metadata": {
  "kernelspec": {
   "name": "python3",
   "language": "python",
   "display_name": "Python 3 (ipykernel)"
  },
  "language_info": {
   "codemirror_mode": {
    "name": "ipython",
    "version": 2
   },
   "file_extension": ".py",
   "mimetype": "text/x-python",
   "name": "python",
   "nbconvert_exporter": "python",
   "pygments_lexer": "ipython2",
   "version": "2.7.6"
  }
 },
 "nbformat": 4,
 "nbformat_minor": 0
}